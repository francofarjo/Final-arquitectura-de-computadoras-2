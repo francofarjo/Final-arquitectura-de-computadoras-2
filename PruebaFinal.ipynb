{
 "cells": [
  {
   "cell_type": "markdown",
   "id": "220e036c-b4c3-47ef-8a83-5fe6d0ace856",
   "metadata": {
    "tags": []
   },
   "source": [
    "## Prueba Final:\n",
    "Especificacion de numeros y de hilos y de procesos"
   ]
  },
  {
   "cell_type": "code",
   "execution_count": 1,
   "id": "0529e914-11f8-4852-a4e3-7924c45b6c13",
   "metadata": {},
   "outputs": [
    {
     "data": {
      "text/plain": [
       "\u001b[0;31m#include <stdio.h>\u001b[0m\u001b[0;34m\u001b[0m\n",
       "\u001b[0;34m\u001b[0m\u001b[0;31m#include \"mpi.h\"\u001b[0m\u001b[0;34m\u001b[0m\n",
       "\u001b[0;34m\u001b[0m\u001b[0;31m#include <omp.h>\u001b[0m\u001b[0;34m\u001b[0m\n",
       "\u001b[0;34m\u001b[0m\u001b[0;34m\u001b[0m\n",
       "\u001b[0;34m\u001b[0m\u001b[0mint\u001b[0m \u001b[0mmain\u001b[0m\u001b[0;34m(\u001b[0m\u001b[0;34m)\u001b[0m\u001b[0;34m\u001b[0m\n",
       "\u001b[0;34m\u001b[0m\u001b[0;34m{\u001b[0m\u001b[0;34m\u001b[0m\n",
       "\u001b[0;34m\u001b[0m    \u001b[0;34m\u001b[0m\n",
       "\u001b[0;34m\u001b[0m    \u001b[0mint\u001b[0m \u001b[0mworld_size\u001b[0m\u001b[0;34m,\u001b[0m \u001b[0mworld_rank\u001b[0m\u001b[0;34m,\u001b[0m \u001b[0mname_length\u001b[0m\u001b[0;34m;\u001b[0m\u001b[0;34m\u001b[0m\n",
       "\u001b[0;34m\u001b[0m    \u001b[0mchar\u001b[0m \u001b[0mprocessor_name\u001b[0m\u001b[0;34m[\u001b[0m\u001b[0mMPI_MAX_PROCESSOR_NAME\u001b[0m\u001b[0;34m]\u001b[0m\u001b[0;34m;\u001b[0m\u001b[0;34m\u001b[0m\n",
       "\u001b[0;34m\u001b[0m    \u001b[0;34m\u001b[0m\n",
       "\u001b[0;34m\u001b[0m    \u001b[0mMPI_Init\u001b[0m\u001b[0;34m(\u001b[0m\u001b[0mNULL\u001b[0m\u001b[0;34m,\u001b[0m \u001b[0mNULL\u001b[0m\u001b[0;34m)\u001b[0m\u001b[0;34m;\u001b[0m\u001b[0;34m\u001b[0m\n",
       "\u001b[0;34m\u001b[0m    \u001b[0mMPI_Comm_size\u001b[0m\u001b[0;34m(\u001b[0m\u001b[0mMPI_COMM_WORLD\u001b[0m\u001b[0;34m,\u001b[0m \u001b[0;34m&\u001b[0m\u001b[0mworld_size\u001b[0m\u001b[0;34m)\u001b[0m\u001b[0;34m;\u001b[0m\u001b[0;34m\u001b[0m\n",
       "\u001b[0;34m\u001b[0m    \u001b[0mMPI_Comm_rank\u001b[0m\u001b[0;34m(\u001b[0m\u001b[0mMPI_COMM_WORLD\u001b[0m\u001b[0;34m,\u001b[0m \u001b[0;34m&\u001b[0m\u001b[0mworld_rank\u001b[0m\u001b[0;34m)\u001b[0m\u001b[0;34m;\u001b[0m\u001b[0;34m\u001b[0m\n",
       "\u001b[0;34m\u001b[0m    \u001b[0;34m\u001b[0m\n",
       "\u001b[0;34m\u001b[0m    \u001b[0mint\u001b[0m \u001b[0mthread_count\u001b[0m \u001b[0;34m=\u001b[0m \u001b[0;36m0\u001b[0m\u001b[0;34m,\u001b[0m \u001b[0mthread_number\u001b[0m \u001b[0;34m=\u001b[0m \u001b[0;36m1\u001b[0m\u001b[0;34m;\u001b[0m\u001b[0;34m\u001b[0m\n",
       "\u001b[0;34m\u001b[0m    \u001b[0;34m\u001b[0m\n",
       "\u001b[0;34m\u001b[0m    \u001b[0;31m#pragma omp parallel default(shared) private(thread_count, thread_number) num_threads(5)\u001b[0m\u001b[0;34m\u001b[0m\n",
       "\u001b[0;34m\u001b[0m    \u001b[0;34m{\u001b[0m\u001b[0;34m\u001b[0m\n",
       "\u001b[0;34m\u001b[0m        \u001b[0mthread_count\u001b[0m \u001b[0;34m=\u001b[0m \u001b[0momp_get_num_threads\u001b[0m\u001b[0;34m(\u001b[0m\u001b[0;34m)\u001b[0m\u001b[0;34m;\u001b[0m\u001b[0;34m\u001b[0m\n",
       "\u001b[0;34m\u001b[0m        \u001b[0mthread_number\u001b[0m \u001b[0;34m=\u001b[0m \u001b[0momp_get_thread_num\u001b[0m\u001b[0;34m(\u001b[0m\u001b[0;34m)\u001b[0m\u001b[0;34m;\u001b[0m\u001b[0;34m\u001b[0m\n",
       "\u001b[0;34m\u001b[0m        \u001b[0;34m\u001b[0m\n",
       "\u001b[0;34m\u001b[0m        \u001b[0mprintf\u001b[0m\u001b[0;34m(\u001b[0m\u001b[0;34m\"HOLA DESDE EL HILO %d DE %d DESDE EL PROCESO %d DE %d \\n\"\u001b[0m\u001b[0;34m,\u001b[0m\u001b[0;34m\u001b[0m\n",
       "\u001b[0;34m\u001b[0m           \u001b[0mthread_number\u001b[0m\u001b[0;34m,\u001b[0m \u001b[0mthread_count\u001b[0m\u001b[0;34m,\u001b[0m \u001b[0mworld_rank\u001b[0m\u001b[0;34m,\u001b[0m \u001b[0mworld_size\u001b[0m\u001b[0;34m)\u001b[0m\u001b[0;34m;\u001b[0m\u001b[0;34m\u001b[0m\n",
       "\u001b[0;34m\u001b[0m    \u001b[0;34m}\u001b[0m\u001b[0;34m\u001b[0m\n",
       "\u001b[0;34m\u001b[0m    \u001b[0;34m\u001b[0m\n",
       "\u001b[0;34m\u001b[0m    \u001b[0mMPI_Finalize\u001b[0m\u001b[0;34m(\u001b[0m\u001b[0;34m)\u001b[0m\u001b[0;34m;\u001b[0m\u001b[0;34m\u001b[0m\n",
       "\u001b[0;34m\u001b[0m\u001b[0;34m}\u001b[0m\u001b[0;34m\u001b[0m\u001b[0;34m\u001b[0m\u001b[0m\n"
      ]
     },
     "metadata": {},
     "output_type": "display_data"
    }
   ],
   "source": [
    "%pycat PruebaFinal.cpp"
   ]
  },
  {
   "cell_type": "code",
   "execution_count": 2,
   "id": "c64eccca-7d36-44ab-b283-34c5a9bc3d68",
   "metadata": {},
   "outputs": [],
   "source": [
    "! mpicxx -fopenmp PruebaFinal.cpp -o PruebaFinal.out"
   ]
  },
  {
   "cell_type": "code",
   "execution_count": 3,
   "id": "622b450c-ec93-4b6f-a808-fee278b3e44c",
   "metadata": {},
   "outputs": [
    {
     "name": "stdout",
     "output_type": "stream",
     "text": [
      "HOLA DESDE EL HILO 0 DE 5 DESDE EL PROCESO 0 DE 1 \n",
      "HOLA DESDE EL HILO 3 DE 5 DESDE EL PROCESO 0 DE 1 \n",
      "HOLA DESDE EL HILO 1 DE 5 DESDE EL PROCESO 0 DE 1 \n",
      "HOLA DESDE EL HILO 4 DE 5 DESDE EL PROCESO 0 DE 1 \n",
      "HOLA DESDE EL HILO 2 DE 5 DESDE EL PROCESO 0 DE 1 \n"
     ]
    }
   ],
   "source": [
    "! ./PruebaFinal.out"
   ]
  },
  {
   "cell_type": "code",
   "execution_count": 4,
   "id": "6cd5cad3-fe12-45f5-aaa1-2a50de96a412",
   "metadata": {},
   "outputs": [
    {
     "name": "stdout",
     "output_type": "stream",
     "text": [
      "HOLA DESDE EL HILO 0 DE 5 DESDE EL PROCESO 1 DE 7 \n",
      "HOLA DESDE EL HILO 4 DE 5 DESDE EL PROCESO 1 DE 7 \n",
      "HOLA DESDE EL HILO 0 DE 5 DESDE EL PROCESO 3 DE 7 \n",
      "HOLA DESDE EL HILO 4 DE 5 DESDE EL PROCESO 3 DE 7 \n",
      "HOLA DESDE EL HILO 3 DE 5 DESDE EL PROCESO 3 DE 7 \n",
      "HOLA DESDE EL HILO 2 DE 5 DESDE EL PROCESO 3 DE 7 \n",
      "HOLA DESDE EL HILO 1 DE 5 DESDE EL PROCESO 3 DE 7 \n",
      "HOLA DESDE EL HILO 3 DE 5 DESDE EL PROCESO 1 DE 7 \n",
      "HOLA DESDE EL HILO 2 DE 5 DESDE EL PROCESO 1 DE 7 \n",
      "HOLA DESDE EL HILO 1 DE 5 DESDE EL PROCESO 1 DE 7 \n",
      "HOLA DESDE EL HILO 0 DE 5 DESDE EL PROCESO 2 DE 7 \n",
      "HOLA DESDE EL HILO 0 DE 5 DESDE EL PROCESO 4 DE 7 \n",
      "HOLA DESDE EL HILO 4 DE 5 DESDE EL PROCESO 4 DE 7 \n",
      "HOLA DESDE EL HILO 3 DE 5 DESDE EL PROCESO 4 DE 7 \n",
      "HOLA DESDE EL HILO 4 DE 5 DESDE EL PROCESO 2 DE 7 \n",
      "HOLA DESDE EL HILO 3 DE 5 DESDE EL PROCESO 2 DE 7 \n",
      "HOLA DESDE EL HILO 2 DE 5 DESDE EL PROCESO 2 DE 7 \n",
      "HOLA DESDE EL HILO 2 DE 5 DESDE EL PROCESO 4 DE 7 \n",
      "HOLA DESDE EL HILO 1 DE 5 DESDE EL PROCESO 4 DE 7 \n",
      "HOLA DESDE EL HILO 0 DE 5 DESDE EL PROCESO 5 DE 7 \n",
      "HOLA DESDE EL HILO 4 DE 5 DESDE EL PROCESO 5 DE 7 \n",
      "HOLA DESDE EL HILO 3 DE 5 DESDE EL PROCESO 5 DE 7 \n",
      "HOLA DESDE EL HILO 2 DE 5 DESDE EL PROCESO 5 DE 7 \n",
      "HOLA DESDE EL HILO 1 DE 5 DESDE EL PROCESO 5 DE 7 \n",
      "HOLA DESDE EL HILO 1 DE 5 DESDE EL PROCESO 2 DE 7 \n",
      "HOLA DESDE EL HILO 0 DE 5 DESDE EL PROCESO 6 DE 7 \n",
      "HOLA DESDE EL HILO 4 DE 5 DESDE EL PROCESO 6 DE 7 \n",
      "HOLA DESDE EL HILO 3 DE 5 DESDE EL PROCESO 6 DE 7 \n",
      "HOLA DESDE EL HILO 2 DE 5 DESDE EL PROCESO 6 DE 7 \n",
      "HOLA DESDE EL HILO 1 DE 5 DESDE EL PROCESO 6 DE 7 \n",
      "HOLA DESDE EL HILO 0 DE 5 DESDE EL PROCESO 0 DE 7 \n",
      "HOLA DESDE EL HILO 4 DE 5 DESDE EL PROCESO 0 DE 7 \n",
      "HOLA DESDE EL HILO 3 DE 5 DESDE EL PROCESO 0 DE 7 \n",
      "HOLA DESDE EL HILO 2 DE 5 DESDE EL PROCESO 0 DE 7 \n",
      "HOLA DESDE EL HILO 1 DE 5 DESDE EL PROCESO 0 DE 7 \n"
     ]
    }
   ],
   "source": [
    "! mpirun -np 7 ./PruebaFinal.out"
   ]
  }
 ],
 "metadata": {
  "kernelspec": {
   "display_name": "Python 3 (Intel® oneAPI 2023.2)",
   "language": "python",
   "name": "c009-intel_distribution_of_python_3_oneapi-beta05-python"
  },
  "language_info": {
   "codemirror_mode": {
    "name": "ipython",
    "version": 3
   },
   "file_extension": ".py",
   "mimetype": "text/x-python",
   "name": "python",
   "nbconvert_exporter": "python",
   "pygments_lexer": "ipython3",
   "version": "3.9.16"
  }
 },
 "nbformat": 4,
 "nbformat_minor": 5
}
